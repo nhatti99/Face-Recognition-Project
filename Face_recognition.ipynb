{
 "cells": [
  {
   "cell_type": "code",
   "execution_count": 1,
   "id": "01bea891",
   "metadata": {},
   "outputs": [],
   "source": [
    "from keras.preprocessing.image import ImageDataGenerator"
   ]
  },
  {
   "cell_type": "code",
   "execution_count": 2,
   "id": "7f222e0c",
   "metadata": {},
   "outputs": [],
   "source": [
    "train_datagen = ImageDataGenerator(rescale=1./225)\n",
    "test_datagen = ImageDataGenerator(rescale=1./225)"
   ]
  },
  {
   "cell_type": "code",
   "execution_count": 3,
   "id": "bed99cea",
   "metadata": {},
   "outputs": [],
   "source": [
    "TrainingImagePath = 'C:/Users/Neha S Hatti/Downloads/Imarticus Project/Face Recognition Project/data4studnts_FR/Train'\n",
    "validationImagePath = \"C:/Users/Neha S Hatti/Downloads/Imarticus Project/Face Recognition Project/data4studnts_FR/Validation\""
   ]
  },
  {
   "cell_type": "code",
   "execution_count": 4,
   "id": "f30fd5ee",
   "metadata": {},
   "outputs": [
    {
     "name": "stdout",
     "output_type": "stream",
     "text": [
      "Found 139 images belonging to 11 classes.\n"
     ]
    }
   ],
   "source": [
    "training_set = train_datagen.flow_from_directory(TrainingImagePath, target_size=(64,64), batch_size=20, class_mode='categorical')"
   ]
  },
  {
   "cell_type": "code",
   "execution_count": 5,
   "id": "a3e3f198",
   "metadata": {},
   "outputs": [
    {
     "name": "stdout",
     "output_type": "stream",
     "text": [
      "Found 59 images belonging to 11 classes.\n"
     ]
    }
   ],
   "source": [
    "validation_set = test_datagen.flow_from_directory(validationImagePath, target_size=(64,64), batch_size=20, class_mode='categorical')"
   ]
  },
  {
   "cell_type": "code",
   "execution_count": 6,
   "id": "97025ccb",
   "metadata": {},
   "outputs": [],
   "source": [
    "from keras.models import Sequential\n",
    "from keras.layers import Convolution2D\n",
    "from keras.layers import MaxPool2D\n",
    "from keras.layers import Flatten\n",
    "from keras.layers import Dense"
   ]
  },
  {
   "cell_type": "code",
   "execution_count": 7,
   "id": "40279cf3",
   "metadata": {},
   "outputs": [],
   "source": [
    "classifier = Sequential()"
   ]
  },
  {
   "cell_type": "code",
   "execution_count": 8,
   "id": "7b836ac7",
   "metadata": {},
   "outputs": [],
   "source": [
    "classifier.add(Convolution2D(32, kernel_size=(3,3), input_shape=(64,64,3), activation='relu'))"
   ]
  },
  {
   "cell_type": "code",
   "execution_count": 9,
   "id": "26bdbe00",
   "metadata": {},
   "outputs": [],
   "source": [
    "classifier.add(MaxPool2D(pool_size=(2,2)))"
   ]
  },
  {
   "cell_type": "code",
   "execution_count": 10,
   "id": "a50b654f",
   "metadata": {},
   "outputs": [],
   "source": [
    "classifier.add(Convolution2D(64,kernel_size=(3,3), activation='relu'))"
   ]
  },
  {
   "cell_type": "code",
   "execution_count": 11,
   "id": "4f3c229e",
   "metadata": {},
   "outputs": [],
   "source": [
    "classifier.add(MaxPool2D(pool_size=(2,2)))"
   ]
  },
  {
   "cell_type": "code",
   "execution_count": 12,
   "id": "34840d7a",
   "metadata": {},
   "outputs": [],
   "source": [
    "classifier.add(Convolution2D(64,kernel_size=(3,3), activation='relu'))"
   ]
  },
  {
   "cell_type": "code",
   "execution_count": 13,
   "id": "057cf903",
   "metadata": {},
   "outputs": [],
   "source": [
    "classifier.add(Flatten())"
   ]
  },
  {
   "cell_type": "code",
   "execution_count": 14,
   "id": "2bdce193",
   "metadata": {},
   "outputs": [],
   "source": [
    "classifier.add(Dense(64,activation='relu'))"
   ]
  },
  {
   "cell_type": "code",
   "execution_count": 15,
   "id": "119bbf1f",
   "metadata": {},
   "outputs": [],
   "source": [
    "classifier.add(Dense(11,activation='softmax'))"
   ]
  },
  {
   "cell_type": "code",
   "execution_count": 16,
   "id": "93b3310c",
   "metadata": {},
   "outputs": [
    {
     "name": "stdout",
     "output_type": "stream",
     "text": [
      "Model: \"sequential\"\n",
      "_________________________________________________________________\n",
      " Layer (type)                Output Shape              Param #   \n",
      "=================================================================\n",
      " conv2d (Conv2D)             (None, 62, 62, 32)        896       \n",
      "                                                                 \n",
      " max_pooling2d (MaxPooling2D  (None, 31, 31, 32)       0         \n",
      " )                                                               \n",
      "                                                                 \n",
      " conv2d_1 (Conv2D)           (None, 29, 29, 64)        18496     \n",
      "                                                                 \n",
      " max_pooling2d_1 (MaxPooling  (None, 14, 14, 64)       0         \n",
      " 2D)                                                             \n",
      "                                                                 \n",
      " conv2d_2 (Conv2D)           (None, 12, 12, 64)        36928     \n",
      "                                                                 \n",
      " flatten (Flatten)           (None, 9216)              0         \n",
      "                                                                 \n",
      " dense (Dense)               (None, 64)                589888    \n",
      "                                                                 \n",
      " dense_1 (Dense)             (None, 11)                715       \n",
      "                                                                 \n",
      "=================================================================\n",
      "Total params: 646,923\n",
      "Trainable params: 646,923\n",
      "Non-trainable params: 0\n",
      "_________________________________________________________________\n"
     ]
    }
   ],
   "source": [
    "classifier.summary()"
   ]
  },
  {
   "cell_type": "code",
   "execution_count": 17,
   "id": "ad7be4d6",
   "metadata": {},
   "outputs": [],
   "source": [
    "classifier.compile(loss='categorical_crossentropy',optimizer='adam', metrics=['accuracy'])"
   ]
  },
  {
   "cell_type": "code",
   "execution_count": 18,
   "id": "03cb68c7",
   "metadata": {},
   "outputs": [
    {
     "name": "stderr",
     "output_type": "stream",
     "text": [
      "C:\\conda_tmp\\ipykernel_11524\\989788965.py:1: UserWarning: `Model.fit_generator` is deprecated and will be removed in a future version. Please use `Model.fit`, which supports generators.\n",
      "  history=classifier.fit_generator(training_set, epochs=20, validation_data=validation_set)\n"
     ]
    },
    {
     "name": "stdout",
     "output_type": "stream",
     "text": [
      "Epoch 1/20\n",
      "7/7 [==============================] - 5s 639ms/step - loss: 2.3675 - accuracy: 0.0791 - val_loss: 2.2929 - val_accuracy: 0.1695\n",
      "Epoch 2/20\n",
      "7/7 [==============================] - 3s 444ms/step - loss: 2.2142 - accuracy: 0.2662 - val_loss: 2.2529 - val_accuracy: 0.1695\n",
      "Epoch 3/20\n",
      "7/7 [==============================] - 3s 473ms/step - loss: 2.0733 - accuracy: 0.2734 - val_loss: 2.1306 - val_accuracy: 0.2542\n",
      "Epoch 4/20\n",
      "7/7 [==============================] - 4s 555ms/step - loss: 1.7264 - accuracy: 0.4892 - val_loss: 1.9968 - val_accuracy: 0.4068\n",
      "Epoch 5/20\n",
      "7/7 [==============================] - 4s 532ms/step - loss: 1.2654 - accuracy: 0.6187 - val_loss: 2.0810 - val_accuracy: 0.3729\n",
      "Epoch 6/20\n",
      "7/7 [==============================] - 4s 569ms/step - loss: 0.9485 - accuracy: 0.7050 - val_loss: 2.0786 - val_accuracy: 0.3898\n",
      "Epoch 7/20\n",
      "7/7 [==============================] - 4s 575ms/step - loss: 0.8147 - accuracy: 0.7194 - val_loss: 1.7284 - val_accuracy: 0.5085\n",
      "Epoch 8/20\n",
      "7/7 [==============================] - 4s 618ms/step - loss: 0.5078 - accuracy: 0.8489 - val_loss: 1.8752 - val_accuracy: 0.4746\n",
      "Epoch 9/20\n",
      "7/7 [==============================] - 4s 616ms/step - loss: 0.4141 - accuracy: 0.8633 - val_loss: 2.0059 - val_accuracy: 0.5254\n",
      "Epoch 10/20\n",
      "7/7 [==============================] - 4s 636ms/step - loss: 0.2718 - accuracy: 0.9137 - val_loss: 2.1221 - val_accuracy: 0.4407\n",
      "Epoch 11/20\n",
      "7/7 [==============================] - 4s 525ms/step - loss: 0.1899 - accuracy: 0.9496 - val_loss: 1.7912 - val_accuracy: 0.5593\n",
      "Epoch 12/20\n",
      "7/7 [==============================] - 4s 532ms/step - loss: 0.0850 - accuracy: 0.9856 - val_loss: 2.0654 - val_accuracy: 0.6102\n",
      "Epoch 13/20\n",
      "7/7 [==============================] - 3s 473ms/step - loss: 0.0479 - accuracy: 0.9928 - val_loss: 2.2886 - val_accuracy: 0.6102\n",
      "Epoch 14/20\n",
      "7/7 [==============================] - 3s 412ms/step - loss: 0.0173 - accuracy: 1.0000 - val_loss: 2.3476 - val_accuracy: 0.5593\n",
      "Epoch 15/20\n",
      "7/7 [==============================] - 3s 483ms/step - loss: 0.0113 - accuracy: 1.0000 - val_loss: 2.4853 - val_accuracy: 0.5932\n",
      "Epoch 16/20\n",
      "7/7 [==============================] - 4s 547ms/step - loss: 0.0053 - accuracy: 1.0000 - val_loss: 2.6176 - val_accuracy: 0.6441\n",
      "Epoch 17/20\n",
      "7/7 [==============================] - 3s 494ms/step - loss: 0.0036 - accuracy: 1.0000 - val_loss: 2.7682 - val_accuracy: 0.6610\n",
      "Epoch 18/20\n",
      "7/7 [==============================] - 3s 466ms/step - loss: 0.0023 - accuracy: 1.0000 - val_loss: 2.9087 - val_accuracy: 0.5932\n",
      "Epoch 19/20\n",
      "7/7 [==============================] - 3s 459ms/step - loss: 0.0016 - accuracy: 1.0000 - val_loss: 2.9219 - val_accuracy: 0.5932\n",
      "Epoch 20/20\n",
      "7/7 [==============================] - 3s 473ms/step - loss: 0.0013 - accuracy: 1.0000 - val_loss: 2.9389 - val_accuracy: 0.6271\n"
     ]
    }
   ],
   "source": [
    "history=classifier.fit_generator(training_set, epochs=20, validation_data=validation_set)"
   ]
  },
  {
   "cell_type": "code",
   "execution_count": 19,
   "id": "75babc8b",
   "metadata": {},
   "outputs": [],
   "source": [
    "import matplotlib.pyplot as plt\n",
    "acc = history.history['accuracy']"
   ]
  },
  {
   "cell_type": "code",
   "execution_count": 20,
   "id": "d4b9e6a7",
   "metadata": {},
   "outputs": [],
   "source": [
    "val_acc = history.history['val_accuracy']"
   ]
  },
  {
   "cell_type": "code",
   "execution_count": 21,
   "id": "bec3687b",
   "metadata": {},
   "outputs": [],
   "source": [
    "loss = history.history['loss']"
   ]
  },
  {
   "cell_type": "code",
   "execution_count": 22,
   "id": "8a801fc2",
   "metadata": {},
   "outputs": [],
   "source": [
    "val_loss = history.history['val_loss']"
   ]
  },
  {
   "cell_type": "code",
   "execution_count": 23,
   "id": "03d62499",
   "metadata": {},
   "outputs": [],
   "source": [
    "epochs = range(1,len(acc)+1)"
   ]
  },
  {
   "cell_type": "code",
   "execution_count": 24,
   "id": "6c603464",
   "metadata": {},
   "outputs": [
    {
     "data": {
      "text/plain": [
       "<Figure size 432x288 with 0 Axes>"
      ]
     },
     "execution_count": 24,
     "metadata": {},
     "output_type": "execute_result"
    },
    {
     "data": {
      "image/png": "[encoded data removed]",
      "text/plain": [
       "<Figure size 432x288 with 1 Axes>"
      ]
     },
     "metadata": {
      "needs_background": "light"
     },
     "output_type": "display_data"
    },
    {
     "data": {
      "text/plain": [
       "<Figure size 432x288 with 0 Axes>"
      ]
     },
     "metadata": {},
     "output_type": "display_data"
    }
   ],
   "source": [
    "plt.plot(epochs, acc, 'bo', label='Training acc')\n",
    "plt.plot(epochs, val_acc, 'r', label='validation acc')\n",
    "plt.title('Training and validation accuracy')\n",
    "plt.legend()\n",
    "plt.figure()"
   ]
  },
  {
   "cell_type": "code",
   "execution_count": 25,
   "id": "01f362a4",
   "metadata": {},
   "outputs": [
    {
     "data": {
      "image/png": "[encoded data removed]",
      "text/plain": [
       "<Figure size 432x288 with 1 Axes>"
      ]
     },
     "metadata": {
      "needs_background": "light"
     },
     "output_type": "display_data"
    }
   ],
   "source": [
    "plt.plot(epochs, loss, 'bo', label='Training loss')\n",
    "plt.plot(epochs, val_loss, 'r', label='validation loss')\n",
    "plt.title('Training and validation loss')\n",
    "plt.legend()\n",
    "plt.show()"
   ]
  },
  {
   "cell_type": "markdown",
   "id": "be5ee143",
   "metadata": {},
   "source": [
    "# Improve Model 2"
   ]
  },
  {
   "cell_type": "code",
   "execution_count": 26,
   "id": "12733f88",
   "metadata": {},
   "outputs": [],
   "source": [
    "TrainingImagePath = 'C:/Users/Neha S Hatti/Downloads/Imarticus Project/Face Recognition Project/data4studnts_FR/Train'\n",
    "validationImagePath = \"C:/Users/Neha S Hatti/Downloads/Imarticus Project/Face Recognition Project/data4studnts_FR/Validation\""
   ]
  },
  {
   "cell_type": "code",
   "execution_count": 27,
   "id": "195b9fb9",
   "metadata": {},
   "outputs": [],
   "source": [
    "from keras.preprocessing.image import ImageDataGenerator"
   ]
  },
  {
   "cell_type": "code",
   "execution_count": 28,
   "id": "5efc7ed8",
   "metadata": {},
   "outputs": [],
   "source": [
    "train_datagen = ImageDataGenerator(rescale=1./255, shear_range=0.5,zoom_range=0.5, width_shift_range=0.2,height_shift_range=0.2)"
   ]
  },
  {
   "cell_type": "code",
   "execution_count": 29,
   "id": "f757c736",
   "metadata": {},
   "outputs": [],
   "source": [
    "test_datagen = ImageDataGenerator(rescale=1./225)"
   ]
  },
  {
   "cell_type": "code",
   "execution_count": 30,
   "id": "59049b1f",
   "metadata": {},
   "outputs": [
    {
     "name": "stdout",
     "output_type": "stream",
     "text": [
      "Found 139 images belonging to 11 classes.\n"
     ]
    }
   ],
   "source": [
    "training_set = train_datagen.flow_from_directory(TrainingImagePath, target_size=(64,64), batch_size=20, class_mode='categorical')"
   ]
  },
  {
   "cell_type": "code",
   "execution_count": 31,
   "id": "29c70311",
   "metadata": {},
   "outputs": [
    {
     "name": "stdout",
     "output_type": "stream",
     "text": [
      "Found 59 images belonging to 11 classes.\n"
     ]
    }
   ],
   "source": [
    "validation_set = test_datagen.flow_from_directory(validationImagePath, target_size=(64,64), batch_size=20, class_mode='categorical')"
   ]
  },
  {
   "cell_type": "code",
   "execution_count": 32,
   "id": "da79b71f",
   "metadata": {},
   "outputs": [],
   "source": [
    "from keras.models import Sequential\n",
    "from keras.layers import Convolution2D\n",
    "from keras.layers import MaxPool2D\n",
    "from keras.layers import Flatten\n",
    "from keras.layers import Dense"
   ]
  },
  {
   "cell_type": "code",
   "execution_count": 33,
   "id": "5475440c",
   "metadata": {},
   "outputs": [],
   "source": [
    "classifier = Sequential()"
   ]
  },
  {
   "cell_type": "code",
   "execution_count": 34,
   "id": "08da6124",
   "metadata": {},
   "outputs": [],
   "source": [
    "classifier.add(Convolution2D(32, kernel_size=(3,3), input_shape=(64,64,3), activation='relu'))"
   ]
  },
  {
   "cell_type": "code",
   "execution_count": 35,
   "id": "5fa02bd7",
   "metadata": {},
   "outputs": [],
   "source": [
    "classifier.add(MaxPool2D(pool_size=(2,2)))"
   ]
  },
  {
   "cell_type": "code",
   "execution_count": 36,
   "id": "012bdbc1",
   "metadata": {},
   "outputs": [],
   "source": [
    "classifier.add(Convolution2D(64,kernel_size=(3,3), activation='relu'))"
   ]
  },
  {
   "cell_type": "code",
   "execution_count": 37,
   "id": "01362e23",
   "metadata": {},
   "outputs": [],
   "source": [
    "classifier.add(MaxPool2D(pool_size=(2,2)))"
   ]
  },
  {
   "cell_type": "code",
   "execution_count": 38,
   "id": "5fa220a1",
   "metadata": {},
   "outputs": [],
   "source": [
    "classifier.add(Convolution2D(64,kernel_size=(3,3), activation='relu'))"
   ]
  },
  {
   "cell_type": "code",
   "execution_count": 39,
   "id": "4b1fad61",
   "metadata": {},
   "outputs": [],
   "source": [
    "classifier.add(Flatten())"
   ]
  },
  {
   "cell_type": "code",
   "execution_count": 40,
   "id": "73acacef",
   "metadata": {},
   "outputs": [],
   "source": [
    "classifier.add(Dense(64,activation='relu'))"
   ]
  },
  {
   "cell_type": "code",
   "execution_count": 41,
   "id": "3efa5057",
   "metadata": {},
   "outputs": [],
   "source": [
    "classifier.add(Dense(11,activation='softmax'))"
   ]
  },
  {
   "cell_type": "code",
   "execution_count": 42,
   "id": "a71fffc9",
   "metadata": {},
   "outputs": [
    {
     "name": "stdout",
     "output_type": "stream",
     "text": [
      "Model: \"sequential_1\"\n",
      "_________________________________________________________________\n",
      " Layer (type)                Output Shape              Param #   \n",
      "=================================================================\n",
      " conv2d_3 (Conv2D)           (None, 62, 62, 32)        896       \n",
      "                                                                 \n",
      " max_pooling2d_2 (MaxPooling  (None, 31, 31, 32)       0         \n",
      " 2D)                                                             \n",
      "                                                                 \n",
      " conv2d_4 (Conv2D)           (None, 29, 29, 64)        18496     \n",
      "                                                                 \n",
      " max_pooling2d_3 (MaxPooling  (None, 14, 14, 64)       0         \n",
      " 2D)                                                             \n",
      "                                                                 \n",
      " conv2d_5 (Conv2D)           (None, 12, 12, 64)        36928     \n",
      "                                                                 \n",
      " flatten_1 (Flatten)         (None, 9216)              0         \n",
      "                                                                 \n",
      " dense_2 (Dense)             (None, 64)                589888    \n",
      "                                                                 \n",
      " dense_3 (Dense)             (None, 11)                715       \n",
      "                                                                 \n",
      "=================================================================\n",
      "Total params: 646,923\n",
      "Trainable params: 646,923\n",
      "Non-trainable params: 0\n",
      "_________________________________________________________________\n"
     ]
    }
   ],
   "source": [
    "classifier.summary()"
   ]
  },
  {
   "cell_type": "code",
   "execution_count": 43,
   "id": "f3fa5b05",
   "metadata": {},
   "outputs": [],
   "source": [
    "classifier.compile(loss='categorical_crossentropy',optimizer='adam', metrics=['accuracy'])"
   ]
  },
  {
   "cell_type": "code",
   "execution_count": 44,
   "id": "5d3b96da",
   "metadata": {
    "scrolled": true
   },
   "outputs": [
    {
     "name": "stderr",
     "output_type": "stream",
     "text": [
      "C:\\conda_tmp\\ipykernel_11524\\3395352187.py:1: UserWarning: `Model.fit_generator` is deprecated and will be removed in a future version. Please use `Model.fit`, which supports generators.\n",
      "  history = classifier.fit_generator(training_set, epochs=100, validation_data=validation_set)\n"
     ]
    },
    {
     "name": "stdout",
     "output_type": "stream",
     "text": [
      "Epoch 1/100\n",
      "7/7 [==============================] - 5s 595ms/step - loss: 2.3918 - accuracy: 0.1367 - val_loss: 2.3210 - val_accuracy: 0.1525\n",
      "Epoch 2/100\n",
      "7/7 [==============================] - 3s 508ms/step - loss: 2.3815 - accuracy: 0.1151 - val_loss: 2.2962 - val_accuracy: 0.1525\n",
      "Epoch 3/100\n",
      "7/7 [==============================] - 3s 479ms/step - loss: 2.3334 - accuracy: 0.1367 - val_loss: 2.3004 - val_accuracy: 0.1186\n",
      "Epoch 4/100\n",
      "7/7 [==============================] - 4s 518ms/step - loss: 2.3109 - accuracy: 0.1367 - val_loss: 2.2752 - val_accuracy: 0.1525\n",
      "Epoch 5/100\n",
      "7/7 [==============================] - 4s 549ms/step - loss: 2.2973 - accuracy: 0.1439 - val_loss: 2.2617 - val_accuracy: 0.1525\n",
      "Epoch 6/100\n",
      "7/7 [==============================] - 4s 659ms/step - loss: 2.2898 - accuracy: 0.1439 - val_loss: 2.2516 - val_accuracy: 0.1695\n",
      "Epoch 7/100\n",
      "7/7 [==============================] - 4s 574ms/step - loss: 2.2831 - accuracy: 0.1439 - val_loss: 2.2293 - val_accuracy: 0.1525\n",
      "Epoch 8/100\n",
      "7/7 [==============================] - 4s 596ms/step - loss: 2.2669 - accuracy: 0.1439 - val_loss: 2.2015 - val_accuracy: 0.1695\n",
      "Epoch 9/100\n",
      "7/7 [==============================] - 5s 668ms/step - loss: 2.2454 - accuracy: 0.1439 - val_loss: 2.1701 - val_accuracy: 0.1525\n",
      "Epoch 10/100\n",
      "7/7 [==============================] - 4s 649ms/step - loss: 2.2158 - accuracy: 0.1727 - val_loss: 2.1368 - val_accuracy: 0.1864\n",
      "Epoch 11/100\n",
      "7/7 [==============================] - 4s 546ms/step - loss: 2.1817 - accuracy: 0.2374 - val_loss: 2.0291 - val_accuracy: 0.2881\n",
      "Epoch 12/100\n",
      "7/7 [==============================] - 4s 628ms/step - loss: 2.1232 - accuracy: 0.2086 - val_loss: 2.0319 - val_accuracy: 0.2712\n",
      "Epoch 13/100\n",
      "7/7 [==============================] - 4s 624ms/step - loss: 2.1567 - accuracy: 0.2518 - val_loss: 1.9738 - val_accuracy: 0.2203\n",
      "Epoch 14/100\n",
      "7/7 [==============================] - 3s 498ms/step - loss: 2.1445 - accuracy: 0.1942 - val_loss: 1.9972 - val_accuracy: 0.2881\n",
      "Epoch 15/100\n",
      "7/7 [==============================] - 3s 500ms/step - loss: 2.0634 - accuracy: 0.3525 - val_loss: 2.0869 - val_accuracy: 0.3220\n",
      "Epoch 16/100\n",
      "7/7 [==============================] - 3s 514ms/step - loss: 2.0097 - accuracy: 0.2806 - val_loss: 2.2872 - val_accuracy: 0.2203\n",
      "Epoch 17/100\n",
      "7/7 [==============================] - 3s 476ms/step - loss: 2.0744 - accuracy: 0.2518 - val_loss: 1.8999 - val_accuracy: 0.3559\n",
      "Epoch 18/100\n",
      "7/7 [==============================] - 3s 485ms/step - loss: 2.0177 - accuracy: 0.3237 - val_loss: 2.1302 - val_accuracy: 0.3220\n",
      "Epoch 19/100\n",
      "7/7 [==============================] - 3s 455ms/step - loss: 2.0071 - accuracy: 0.3022 - val_loss: 1.9692 - val_accuracy: 0.2881\n",
      "Epoch 20/100\n",
      "7/7 [==============================] - 3s 458ms/step - loss: 1.9648 - accuracy: 0.3669 - val_loss: 2.0533 - val_accuracy: 0.3390\n",
      "Epoch 21/100\n",
      "7/7 [==============================] - 3s 447ms/step - loss: 1.9557 - accuracy: 0.3525 - val_loss: 1.8788 - val_accuracy: 0.3559\n",
      "Epoch 22/100\n",
      "7/7 [==============================] - 3s 448ms/step - loss: 1.8494 - accuracy: 0.3381 - val_loss: 2.2052 - val_accuracy: 0.2712\n",
      "Epoch 23/100\n",
      "7/7 [==============================] - 3s 443ms/step - loss: 1.8036 - accuracy: 0.3525 - val_loss: 1.7394 - val_accuracy: 0.3729\n",
      "Epoch 24/100\n",
      "7/7 [==============================] - 3s 477ms/step - loss: 1.7916 - accuracy: 0.3453 - val_loss: 1.6305 - val_accuracy: 0.4237\n",
      "Epoch 25/100\n",
      "7/7 [==============================] - 3s 473ms/step - loss: 1.7118 - accuracy: 0.3885 - val_loss: 1.9782 - val_accuracy: 0.4068\n",
      "Epoch 26/100\n",
      "7/7 [==============================] - 3s 463ms/step - loss: 1.7702 - accuracy: 0.3741 - val_loss: 1.6113 - val_accuracy: 0.4746\n",
      "Epoch 27/100\n",
      "7/7 [==============================] - 3s 442ms/step - loss: 1.7947 - accuracy: 0.3957 - val_loss: 1.6317 - val_accuracy: 0.4407\n",
      "Epoch 28/100\n",
      "7/7 [==============================] - 3s 458ms/step - loss: 1.7163 - accuracy: 0.4101 - val_loss: 1.6498 - val_accuracy: 0.4407\n",
      "Epoch 29/100\n",
      "7/7 [==============================] - 3s 444ms/step - loss: 1.6342 - accuracy: 0.4245 - val_loss: 1.6259 - val_accuracy: 0.4237\n",
      "Epoch 30/100\n",
      "7/7 [==============================] - 3s 459ms/step - loss: 1.5963 - accuracy: 0.4748 - val_loss: 1.6069 - val_accuracy: 0.4407\n",
      "Epoch 31/100\n",
      "7/7 [==============================] - 3s 479ms/step - loss: 1.5109 - accuracy: 0.5108 - val_loss: 1.7537 - val_accuracy: 0.4237\n",
      "Epoch 32/100\n",
      "7/7 [==============================] - 3s 467ms/step - loss: 1.5327 - accuracy: 0.5180 - val_loss: 1.6106 - val_accuracy: 0.4237\n",
      "Epoch 33/100\n",
      "7/7 [==============================] - 3s 504ms/step - loss: 1.6863 - accuracy: 0.4460 - val_loss: 1.3399 - val_accuracy: 0.5254\n",
      "Epoch 34/100\n",
      "7/7 [==============================] - 4s 558ms/step - loss: 1.3917 - accuracy: 0.5324 - val_loss: 1.6578 - val_accuracy: 0.4576\n",
      "Epoch 35/100\n",
      "7/7 [==============================] - 4s 543ms/step - loss: 1.5382 - accuracy: 0.4532 - val_loss: 1.3932 - val_accuracy: 0.4746\n",
      "Epoch 36/100\n",
      "7/7 [==============================] - 3s 454ms/step - loss: 1.4883 - accuracy: 0.4676 - val_loss: 1.6789 - val_accuracy: 0.4407\n",
      "Epoch 37/100\n",
      "7/7 [==============================] - 3s 449ms/step - loss: 1.3582 - accuracy: 0.5252 - val_loss: 1.0648 - val_accuracy: 0.5932\n",
      "Epoch 38/100\n",
      "7/7 [==============================] - 3s 476ms/step - loss: 1.3570 - accuracy: 0.5108 - val_loss: 1.6051 - val_accuracy: 0.5085\n",
      "Epoch 39/100\n",
      "7/7 [==============================] - 4s 543ms/step - loss: 1.4847 - accuracy: 0.5324 - val_loss: 1.4607 - val_accuracy: 0.5763\n",
      "Epoch 40/100\n",
      "7/7 [==============================] - 3s 490ms/step - loss: 1.5078 - accuracy: 0.5036 - val_loss: 1.2135 - val_accuracy: 0.5254\n",
      "Epoch 41/100\n",
      "7/7 [==============================] - 3s 468ms/step - loss: 1.3213 - accuracy: 0.5180 - val_loss: 1.7440 - val_accuracy: 0.4237\n",
      "Epoch 42/100\n",
      "7/7 [==============================] - 3s 463ms/step - loss: 1.2698 - accuracy: 0.5683 - val_loss: 1.2261 - val_accuracy: 0.5593\n",
      "Epoch 43/100\n",
      "7/7 [==============================] - 3s 488ms/step - loss: 1.0724 - accuracy: 0.6043 - val_loss: 1.1087 - val_accuracy: 0.6441\n",
      "Epoch 44/100\n",
      "7/7 [==============================] - 4s 573ms/step - loss: 1.1557 - accuracy: 0.6043 - val_loss: 1.2154 - val_accuracy: 0.6441\n",
      "Epoch 45/100\n",
      "7/7 [==============================] - 4s 659ms/step - loss: 1.2570 - accuracy: 0.5252 - val_loss: 1.1310 - val_accuracy: 0.6441\n",
      "Epoch 46/100\n",
      "7/7 [==============================] - 5s 713ms/step - loss: 1.3548 - accuracy: 0.5827 - val_loss: 1.3132 - val_accuracy: 0.5593\n",
      "Epoch 47/100\n",
      "7/7 [==============================] - 4s 591ms/step - loss: 1.2760 - accuracy: 0.5971 - val_loss: 1.0261 - val_accuracy: 0.6271\n",
      "Epoch 48/100\n",
      "7/7 [==============================] - 4s 584ms/step - loss: 1.2127 - accuracy: 0.5827 - val_loss: 1.2699 - val_accuracy: 0.5763\n",
      "Epoch 49/100\n",
      "7/7 [==============================] - 3s 445ms/step - loss: 1.1805 - accuracy: 0.6259 - val_loss: 0.8136 - val_accuracy: 0.7288\n",
      "Epoch 50/100\n",
      "7/7 [==============================] - 3s 449ms/step - loss: 1.0980 - accuracy: 0.5827 - val_loss: 0.9480 - val_accuracy: 0.6610\n",
      "Epoch 51/100\n",
      "7/7 [==============================] - 4s 557ms/step - loss: 1.1623 - accuracy: 0.5899 - val_loss: 1.1368 - val_accuracy: 0.6610\n",
      "Epoch 52/100\n",
      "7/7 [==============================] - 3s 455ms/step - loss: 1.0261 - accuracy: 0.6835 - val_loss: 0.8171 - val_accuracy: 0.7627\n",
      "Epoch 53/100\n",
      "7/7 [==============================] - 3s 446ms/step - loss: 0.9240 - accuracy: 0.6763 - val_loss: 1.2388 - val_accuracy: 0.6441\n",
      "Epoch 54/100\n",
      "7/7 [==============================] - 3s 462ms/step - loss: 1.0349 - accuracy: 0.6115 - val_loss: 0.9038 - val_accuracy: 0.6949\n",
      "Epoch 55/100\n",
      "7/7 [==============================] - 3s 470ms/step - loss: 0.9151 - accuracy: 0.7050 - val_loss: 0.9884 - val_accuracy: 0.6949\n",
      "Epoch 56/100\n",
      "7/7 [==============================] - 3s 476ms/step - loss: 0.9706 - accuracy: 0.6475 - val_loss: 1.1196 - val_accuracy: 0.6610\n",
      "Epoch 57/100\n",
      "7/7 [==============================] - 3s 451ms/step - loss: 0.7437 - accuracy: 0.7338 - val_loss: 1.2144 - val_accuracy: 0.6610\n",
      "Epoch 58/100\n",
      "7/7 [==============================] - 3s 448ms/step - loss: 0.8042 - accuracy: 0.7050 - val_loss: 1.1238 - val_accuracy: 0.6780\n"
     ]
    },
    {
     "name": "stdout",
     "output_type": "stream",
     "text": [
      "Epoch 59/100\n",
      "7/7 [==============================] - 3s 443ms/step - loss: 0.8196 - accuracy: 0.6906 - val_loss: 1.4470 - val_accuracy: 0.6271\n",
      "Epoch 60/100\n",
      "7/7 [==============================] - 4s 546ms/step - loss: 0.9059 - accuracy: 0.6906 - val_loss: 1.1382 - val_accuracy: 0.6949\n",
      "Epoch 61/100\n",
      "7/7 [==============================] - 3s 444ms/step - loss: 0.7551 - accuracy: 0.7266 - val_loss: 1.2771 - val_accuracy: 0.6610\n",
      "Epoch 62/100\n",
      "7/7 [==============================] - 3s 485ms/step - loss: 0.8505 - accuracy: 0.6978 - val_loss: 0.8725 - val_accuracy: 0.7627\n",
      "Epoch 63/100\n",
      "7/7 [==============================] - 4s 536ms/step - loss: 0.8502 - accuracy: 0.6547 - val_loss: 1.6405 - val_accuracy: 0.6271\n",
      "Epoch 64/100\n",
      "7/7 [==============================] - 3s 486ms/step - loss: 0.9587 - accuracy: 0.6835 - val_loss: 0.7987 - val_accuracy: 0.7458\n",
      "Epoch 65/100\n",
      "7/7 [==============================] - 4s 513ms/step - loss: 0.9827 - accuracy: 0.6331 - val_loss: 1.3191 - val_accuracy: 0.6441\n",
      "Epoch 66/100\n",
      "7/7 [==============================] - 3s 498ms/step - loss: 0.8645 - accuracy: 0.7122 - val_loss: 1.0375 - val_accuracy: 0.7119\n",
      "Epoch 67/100\n",
      "7/7 [==============================] - 4s 536ms/step - loss: 0.7496 - accuracy: 0.7914 - val_loss: 1.6070 - val_accuracy: 0.5593\n",
      "Epoch 68/100\n",
      "7/7 [==============================] - 4s 546ms/step - loss: 0.8668 - accuracy: 0.6619 - val_loss: 0.9513 - val_accuracy: 0.6949\n",
      "Epoch 69/100\n",
      "7/7 [==============================] - 3s 446ms/step - loss: 0.6988 - accuracy: 0.7050 - val_loss: 1.0421 - val_accuracy: 0.7119\n",
      "Epoch 70/100\n",
      "7/7 [==============================] - 4s 534ms/step - loss: 0.7955 - accuracy: 0.7338 - val_loss: 0.7642 - val_accuracy: 0.7966\n",
      "Epoch 71/100\n",
      "7/7 [==============================] - 3s 460ms/step - loss: 0.7600 - accuracy: 0.7266 - val_loss: 1.0822 - val_accuracy: 0.6949\n",
      "Epoch 72/100\n",
      "7/7 [==============================] - 3s 463ms/step - loss: 0.5896 - accuracy: 0.8129 - val_loss: 1.0499 - val_accuracy: 0.6949\n",
      "Epoch 73/100\n",
      "7/7 [==============================] - 3s 451ms/step - loss: 0.8693 - accuracy: 0.6835 - val_loss: 0.8109 - val_accuracy: 0.7627\n",
      "Epoch 74/100\n",
      "7/7 [==============================] - 3s 466ms/step - loss: 0.6931 - accuracy: 0.7770 - val_loss: 0.9249 - val_accuracy: 0.7119\n",
      "Epoch 75/100\n",
      "7/7 [==============================] - 3s 461ms/step - loss: 0.7031 - accuracy: 0.7770 - val_loss: 0.9385 - val_accuracy: 0.7288\n",
      "Epoch 76/100\n",
      "7/7 [==============================] - 3s 450ms/step - loss: 0.7054 - accuracy: 0.7554 - val_loss: 0.8293 - val_accuracy: 0.7288\n",
      "Epoch 77/100\n",
      "7/7 [==============================] - 3s 452ms/step - loss: 0.8017 - accuracy: 0.7050 - val_loss: 1.4253 - val_accuracy: 0.6780\n",
      "Epoch 78/100\n",
      "7/7 [==============================] - 3s 469ms/step - loss: 0.6856 - accuracy: 0.7698 - val_loss: 0.6984 - val_accuracy: 0.7627\n",
      "Epoch 79/100\n",
      "7/7 [==============================] - 3s 493ms/step - loss: 0.7341 - accuracy: 0.7194 - val_loss: 0.8185 - val_accuracy: 0.7966\n",
      "Epoch 80/100\n",
      "7/7 [==============================] - 4s 590ms/step - loss: 0.6480 - accuracy: 0.7986 - val_loss: 0.6766 - val_accuracy: 0.8475\n",
      "Epoch 81/100\n",
      "7/7 [==============================] - 4s 543ms/step - loss: 0.7244 - accuracy: 0.7266 - val_loss: 1.4466 - val_accuracy: 0.6949\n",
      "Epoch 82/100\n",
      "7/7 [==============================] - 3s 485ms/step - loss: 0.5346 - accuracy: 0.8273 - val_loss: 1.0546 - val_accuracy: 0.6780\n",
      "Epoch 83/100\n",
      "7/7 [==============================] - 3s 441ms/step - loss: 0.6513 - accuracy: 0.7482 - val_loss: 0.6400 - val_accuracy: 0.7627\n",
      "Epoch 84/100\n",
      "7/7 [==============================] - 3s 451ms/step - loss: 0.5997 - accuracy: 0.7986 - val_loss: 1.4861 - val_accuracy: 0.6610\n",
      "Epoch 85/100\n",
      "7/7 [==============================] - 3s 449ms/step - loss: 0.6319 - accuracy: 0.7698 - val_loss: 0.9527 - val_accuracy: 0.7627\n",
      "Epoch 86/100\n",
      "7/7 [==============================] - 4s 623ms/step - loss: 0.6489 - accuracy: 0.7842 - val_loss: 0.9335 - val_accuracy: 0.7458\n",
      "Epoch 87/100\n",
      "7/7 [==============================] - 5s 688ms/step - loss: 0.6388 - accuracy: 0.8129 - val_loss: 0.9683 - val_accuracy: 0.7458\n",
      "Epoch 88/100\n",
      "7/7 [==============================] - 5s 750ms/step - loss: 0.4722 - accuracy: 0.8705 - val_loss: 1.0721 - val_accuracy: 0.7288\n",
      "Epoch 89/100\n",
      "7/7 [==============================] - 5s 669ms/step - loss: 0.4561 - accuracy: 0.8561 - val_loss: 0.6551 - val_accuracy: 0.7966\n",
      "Epoch 90/100\n",
      "7/7 [==============================] - 4s 511ms/step - loss: 0.5327 - accuracy: 0.8129 - val_loss: 0.6761 - val_accuracy: 0.8136\n",
      "Epoch 91/100\n",
      "7/7 [==============================] - 4s 525ms/step - loss: 0.5626 - accuracy: 0.7986 - val_loss: 0.7560 - val_accuracy: 0.7966\n",
      "Epoch 92/100\n",
      "7/7 [==============================] - 4s 604ms/step - loss: 0.4799 - accuracy: 0.8561 - val_loss: 0.8736 - val_accuracy: 0.7458\n",
      "Epoch 93/100\n",
      "7/7 [==============================] - 4s 598ms/step - loss: 0.5818 - accuracy: 0.7986 - val_loss: 0.7575 - val_accuracy: 0.7966\n",
      "Epoch 94/100\n",
      "7/7 [==============================] - 3s 479ms/step - loss: 0.5461 - accuracy: 0.8273 - val_loss: 0.9562 - val_accuracy: 0.7288\n",
      "Epoch 95/100\n",
      "7/7 [==============================] - 3s 521ms/step - loss: 0.4884 - accuracy: 0.8345 - val_loss: 1.5157 - val_accuracy: 0.6441\n",
      "Epoch 96/100\n",
      "7/7 [==============================] - 3s 474ms/step - loss: 0.5674 - accuracy: 0.8345 - val_loss: 0.7712 - val_accuracy: 0.7966\n",
      "Epoch 97/100\n",
      "7/7 [==============================] - 3s 481ms/step - loss: 0.6515 - accuracy: 0.7698 - val_loss: 1.0474 - val_accuracy: 0.7458\n",
      "Epoch 98/100\n",
      "7/7 [==============================] - 3s 452ms/step - loss: 0.6759 - accuracy: 0.7914 - val_loss: 1.6156 - val_accuracy: 0.5593\n",
      "Epoch 99/100\n",
      "7/7 [==============================] - 4s 594ms/step - loss: 0.4412 - accuracy: 0.8705 - val_loss: 0.5811 - val_accuracy: 0.8136\n",
      "Epoch 100/100\n",
      "7/7 [==============================] - 4s 527ms/step - loss: 0.4569 - accuracy: 0.8201 - val_loss: 1.2262 - val_accuracy: 0.6780\n"
     ]
    }
   ],
   "source": [
    "history = classifier.fit_generator(training_set, epochs=100, validation_data=validation_set)"
   ]
  },
  {
   "cell_type": "code",
   "execution_count": 45,
   "id": "e89d3cd2",
   "metadata": {},
   "outputs": [],
   "source": [
    "import matplotlib.pyplot as plt\n",
    "acc = history.history['accuracy']\n",
    "val_acc = history.history['val_accuracy']\n",
    "loss = history.history['loss']\n",
    "val_loss = history.history['val_loss']"
   ]
  },
  {
   "cell_type": "code",
   "execution_count": 46,
   "id": "41e04172",
   "metadata": {},
   "outputs": [],
   "source": [
    "epochs = range(1,len(acc)+1)"
   ]
  },
  {
   "cell_type": "code",
   "execution_count": 47,
   "id": "7a56cbb2",
   "metadata": {},
   "outputs": [
    {
     "data": {
      "text/plain": [
       "<Figure size 432x288 with 0 Axes>"
      ]
     },
     "execution_count": 47,
     "metadata": {},
     "output_type": "execute_result"
    },
    {
     "data": {
      "image/png": "[encoded data removed]",
      "text/plain": [
       "<Figure size 432x288 with 1 Axes>"
      ]
     },
     "metadata": {
      "needs_background": "light"
     },
     "output_type": "display_data"
    },
    {
     "data": {
      "text/plain": [
       "<Figure size 432x288 with 0 Axes>"
      ]
     },
     "metadata": {},
     "output_type": "display_data"
    }
   ],
   "source": [
    "plt.plot(epochs, acc, 'bo', label='Training acc')\n",
    "plt.plot(epochs, val_acc, 'g', label='validation acc')\n",
    "plt.title('Trianing and validation accuracy')\n",
    "plt.legend()\n",
    "plt.figure()"
   ]
  },
  {
   "cell_type": "code",
   "execution_count": 48,
   "id": "8c647552",
   "metadata": {},
   "outputs": [
    {
     "data": {
      "image/png": "[encoded data removed]",
      "text/plain": [
       "<Figure size 432x288 with 1 Axes>"
      ]
     },
     "metadata": {
      "needs_background": "light"
     },
     "output_type": "display_data"
    }
   ],
   "source": [
    "plt.plot(epochs, loss, 'bo', label='Training loss')\n",
    "plt.plot(epochs, val_loss, 'g', label='validation loss')\n",
    "plt.title('Training and validation loss')\n",
    "plt.legend()\n",
    "plt.show()"
   ]
  },
  {
   "cell_type": "markdown",
   "id": "2d036679",
   "metadata": {},
   "source": [
    "# Model 3"
   ]
  },
  {
   "cell_type": "code",
   "execution_count": 49,
   "id": "647475d1",
   "metadata": {},
   "outputs": [],
   "source": [
    "from keras.applications import VGG16"
   ]
  },
  {
   "cell_type": "code",
   "execution_count": 50,
   "id": "bc11d02e",
   "metadata": {},
   "outputs": [],
   "source": [
    "conv_base = VGG16(weights='imagenet', include_top=False, input_shape=(150,150,3))"
   ]
  },
  {
   "cell_type": "code",
   "execution_count": 51,
   "id": "eba7072a",
   "metadata": {},
   "outputs": [
    {
     "name": "stdout",
     "output_type": "stream",
     "text": [
      "Model: \"vgg16\"\n",
      "_________________________________________________________________\n",
      " Layer (type)                Output Shape              Param #   \n",
      "=================================================================\n",
      " input_1 (InputLayer)        [(None, 150, 150, 3)]     0         \n",
      "                                                                 \n",
      " block1_conv1 (Conv2D)       (None, 150, 150, 64)      1792      \n",
      "                                                                 \n",
      " block1_conv2 (Conv2D)       (None, 150, 150, 64)      36928     \n",
      "                                                                 \n",
      " block1_pool (MaxPooling2D)  (None, 75, 75, 64)        0         \n",
      "                                                                 \n",
      " block2_conv1 (Conv2D)       (None, 75, 75, 128)       73856     \n",
      "                                                                 \n",
      " block2_conv2 (Conv2D)       (None, 75, 75, 128)       147584    \n",
      "                                                                 \n",
      " block2_pool (MaxPooling2D)  (None, 37, 37, 128)       0         \n",
      "                                                                 \n",
      " block3_conv1 (Conv2D)       (None, 37, 37, 256)       295168    \n",
      "                                                                 \n",
      " block3_conv2 (Conv2D)       (None, 37, 37, 256)       590080    \n",
      "                                                                 \n",
      " block3_conv3 (Conv2D)       (None, 37, 37, 256)       590080    \n",
      "                                                                 \n",
      " block3_pool (MaxPooling2D)  (None, 18, 18, 256)       0         \n",
      "                                                                 \n",
      " block4_conv1 (Conv2D)       (None, 18, 18, 512)       1180160   \n",
      "                                                                 \n",
      " block4_conv2 (Conv2D)       (None, 18, 18, 512)       2359808   \n",
      "                                                                 \n",
      " block4_conv3 (Conv2D)       (None, 18, 18, 512)       2359808   \n",
      "                                                                 \n",
      " block4_pool (MaxPooling2D)  (None, 9, 9, 512)         0         \n",
      "                                                                 \n",
      " block5_conv1 (Conv2D)       (None, 9, 9, 512)         2359808   \n",
      "                                                                 \n",
      " block5_conv2 (Conv2D)       (None, 9, 9, 512)         2359808   \n",
      "                                                                 \n",
      " block5_conv3 (Conv2D)       (None, 9, 9, 512)         2359808   \n",
      "                                                                 \n",
      " block5_pool (MaxPooling2D)  (None, 4, 4, 512)         0         \n",
      "                                                                 \n",
      "=================================================================\n",
      "Total params: 14,714,688\n",
      "Trainable params: 14,714,688\n",
      "Non-trainable params: 0\n",
      "_________________________________________________________________\n"
     ]
    }
   ],
   "source": [
    "conv_base.summary()"
   ]
  },
  {
   "cell_type": "code",
   "execution_count": 52,
   "id": "f42152a2",
   "metadata": {},
   "outputs": [],
   "source": [
    "import numpy as np\n",
    "from keras.preprocessing.image import ImageDataGenerator"
   ]
  },
  {
   "cell_type": "code",
   "execution_count": 53,
   "id": "f73c973d",
   "metadata": {},
   "outputs": [],
   "source": [
    "TrainingImagePath = 'C:/Users/Neha S Hatti/Downloads/Imarticus Project/Face Recognition Project/data4studnts_FR/Train'\n",
    "validationImagePath = \"C:/Users/Neha S Hatti/Downloads/Imarticus Project/Face Recognition Project/data4studnts_FR/Validation\""
   ]
  },
  {
   "cell_type": "code",
   "execution_count": 54,
   "id": "b597265d",
   "metadata": {},
   "outputs": [],
   "source": [
    "datagen = ImageDataGenerator(rescale=1./255)"
   ]
  },
  {
   "cell_type": "code",
   "execution_count": 55,
   "id": "eac3681d",
   "metadata": {},
   "outputs": [],
   "source": [
    "batch_size = 20"
   ]
  },
  {
   "cell_type": "code",
   "execution_count": 56,
   "id": "a18e4d3d",
   "metadata": {},
   "outputs": [],
   "source": [
    "def extract_features(directory, sample_count):\n",
    "    features = np.zeros(shape=(sample_count, 4, 4, 512))\n",
    "    labels = np.zeros(shape=(sample_count))\n",
    "    generator = datagen.flow_from_directory(directory, target_size=(150,150), batch_size=batch_size, class_mode='binary')\n",
    "    i=0\n",
    "    for inputs_batch, labels_batch in generator:\n",
    "        features_batch = conv_base.predict(inputs_batch)\n",
    "        features[i*batch_size:(i+1)*batch_size]=features_batch\n",
    "        labels[i*batch_size:(i+1)*batch_size]=labels_batch\n",
    "        i+=1\n",
    "        if i*batch_size>=sample_count:\n",
    "            break\n",
    "    return features, labels"
   ]
  },
  {
   "cell_type": "code",
   "execution_count": 57,
   "id": "1641c85f",
   "metadata": {},
   "outputs": [
    {
     "name": "stdout",
     "output_type": "stream",
     "text": [
      "Found 139 images belonging to 11 classes.\n",
      "1/1 [==============================] - 3s 3s/step\n",
      "1/1 [==============================] - 2s 2s/step\n",
      "1/1 [==============================] - 2s 2s/step\n",
      "1/1 [==============================] - 2s 2s/step\n",
      "1/1 [==============================] - 2s 2s/step\n",
      "1/1 [==============================] - 2s 2s/step\n",
      "1/1 [==============================] - 2s 2s/step\n"
     ]
    }
   ],
   "source": [
    "train_features, train_labels = extract_features(TrainingImagePath, 139)"
   ]
  },
  {
   "cell_type": "code",
   "execution_count": 58,
   "id": "fff18635",
   "metadata": {},
   "outputs": [
    {
     "name": "stdout",
     "output_type": "stream",
     "text": [
      "Found 59 images belonging to 11 classes.\n",
      "1/1 [==============================] - 2s 2s/step\n",
      "1/1 [==============================] - 2s 2s/step\n",
      "1/1 [==============================] - 2s 2s/step\n"
     ]
    }
   ],
   "source": [
    "validation_features, validation_labels = extract_features(validationImagePath, 59)"
   ]
  },
  {
   "cell_type": "code",
   "execution_count": 59,
   "id": "2ad16072",
   "metadata": {},
   "outputs": [
    {
     "data": {
      "text/plain": [
       "(139, 4, 4, 512)"
      ]
     },
     "execution_count": 59,
     "metadata": {},
     "output_type": "execute_result"
    }
   ],
   "source": [
    "train_features.shape"
   ]
  },
  {
   "cell_type": "code",
   "execution_count": 60,
   "id": "6f87cf4d",
   "metadata": {},
   "outputs": [
    {
     "data": {
      "text/plain": [
       "(139, 8192)"
      ]
     },
     "execution_count": 60,
     "metadata": {},
     "output_type": "execute_result"
    }
   ],
   "source": [
    "train_features = np.reshape(train_features, (139, 4*4* 512))\n",
    "train_features.shape"
   ]
  },
  {
   "cell_type": "code",
   "execution_count": 61,
   "id": "b7787899",
   "metadata": {},
   "outputs": [
    {
     "data": {
      "text/plain": [
       "(59, 4, 4, 512)"
      ]
     },
     "execution_count": 61,
     "metadata": {},
     "output_type": "execute_result"
    }
   ],
   "source": [
    "validation_features.shape"
   ]
  },
  {
   "cell_type": "code",
   "execution_count": 62,
   "id": "adbb94cc",
   "metadata": {},
   "outputs": [],
   "source": [
    "validation_features = np.reshape(validation_features, (59, 4*4* 512))"
   ]
  },
  {
   "cell_type": "code",
   "execution_count": 63,
   "id": "b1618ce7",
   "metadata": {},
   "outputs": [
    {
     "data": {
      "text/plain": [
       "(59, 8192)"
      ]
     },
     "execution_count": 63,
     "metadata": {},
     "output_type": "execute_result"
    }
   ],
   "source": [
    "validation_features.shape"
   ]
  },
  {
   "cell_type": "code",
   "execution_count": 64,
   "id": "b470a4e4",
   "metadata": {},
   "outputs": [
    {
     "data": {
      "text/plain": [
       "(139,)"
      ]
     },
     "execution_count": 64,
     "metadata": {},
     "output_type": "execute_result"
    }
   ],
   "source": [
    "train_labels.shape"
   ]
  },
  {
   "cell_type": "code",
   "execution_count": 65,
   "id": "ed023a91",
   "metadata": {},
   "outputs": [],
   "source": [
    "from keras.utils import to_categorical"
   ]
  },
  {
   "cell_type": "code",
   "execution_count": 66,
   "id": "240d2ac1",
   "metadata": {},
   "outputs": [],
   "source": [
    "train_labels_cat = to_categorical(train_labels)"
   ]
  },
  {
   "cell_type": "code",
   "execution_count": 67,
   "id": "939949be",
   "metadata": {},
   "outputs": [
    {
     "data": {
      "text/plain": [
       "(139, 11)"
      ]
     },
     "execution_count": 67,
     "metadata": {},
     "output_type": "execute_result"
    }
   ],
   "source": [
    "train_labels_cat.shape"
   ]
  },
  {
   "cell_type": "code",
   "execution_count": 68,
   "id": "94041489",
   "metadata": {},
   "outputs": [
    {
     "data": {
      "text/plain": [
       "(59,)"
      ]
     },
     "execution_count": 68,
     "metadata": {},
     "output_type": "execute_result"
    }
   ],
   "source": [
    "validation_labels.shape"
   ]
  },
  {
   "cell_type": "code",
   "execution_count": 69,
   "id": "108fdc0a",
   "metadata": {},
   "outputs": [],
   "source": [
    "valid_labels_cat = to_categorical(validation_labels)"
   ]
  },
  {
   "cell_type": "code",
   "execution_count": 70,
   "id": "2607130f",
   "metadata": {},
   "outputs": [
    {
     "data": {
      "text/plain": [
       "(59, 11)"
      ]
     },
     "execution_count": 70,
     "metadata": {},
     "output_type": "execute_result"
    }
   ],
   "source": [
    "valid_labels_cat.shape"
   ]
  },
  {
   "cell_type": "code",
   "execution_count": 71,
   "id": "f8b5433b",
   "metadata": {},
   "outputs": [],
   "source": [
    "from keras import models\n",
    "from keras import layers\n",
    "from keras import optimizers"
   ]
  },
  {
   "cell_type": "code",
   "execution_count": 72,
   "id": "5c2df27b",
   "metadata": {},
   "outputs": [],
   "source": [
    "model = models.Sequential()"
   ]
  },
  {
   "cell_type": "code",
   "execution_count": 73,
   "id": "e60af045",
   "metadata": {},
   "outputs": [],
   "source": [
    "model.add(layers.Dense(256,activation='relu', input_dim=4*4*512))\n",
    "model.add(layers.Dropout(0.5))\n",
    "model.add(layers.Dense(11,activation='softmax'))\n",
    "model.compile(optimizer='adam', loss='categorical_crossentropy', metrics=['acc'])"
   ]
  },
  {
   "cell_type": "code",
   "execution_count": 74,
   "id": "27187763",
   "metadata": {},
   "outputs": [
    {
     "name": "stdout",
     "output_type": "stream",
     "text": [
      "Epoch 1/30\n",
      "7/7 [==============================] - 1s 75ms/step - loss: 2.8168 - acc: 0.1942 - val_loss: 1.4829 - val_acc: 0.4576\n",
      "Epoch 2/30\n",
      "7/7 [==============================] - 0s 26ms/step - loss: 1.3539 - acc: 0.5324 - val_loss: 1.0363 - val_acc: 0.7288\n",
      "Epoch 3/30\n",
      "7/7 [==============================] - 0s 27ms/step - loss: 0.7488 - acc: 0.7194 - val_loss: 0.7338 - val_acc: 0.8136\n",
      "Epoch 4/30\n",
      "7/7 [==============================] - 0s 28ms/step - loss: 0.4012 - acc: 0.9281 - val_loss: 0.5606 - val_acc: 0.8814\n",
      "Epoch 5/30\n",
      "7/7 [==============================] - 0s 41ms/step - loss: 0.3403 - acc: 0.9065 - val_loss: 0.4347 - val_acc: 0.8305\n",
      "Epoch 6/30\n",
      "7/7 [==============================] - 0s 36ms/step - loss: 0.2154 - acc: 0.9424 - val_loss: 0.3932 - val_acc: 0.8475\n",
      "Epoch 7/30\n",
      "7/7 [==============================] - 0s 30ms/step - loss: 0.1516 - acc: 0.9784 - val_loss: 0.3745 - val_acc: 0.8983\n",
      "Epoch 8/30\n",
      "7/7 [==============================] - 0s 44ms/step - loss: 0.1316 - acc: 0.9928 - val_loss: 0.3432 - val_acc: 0.8814\n",
      "Epoch 9/30\n",
      "7/7 [==============================] - 0s 43ms/step - loss: 0.1212 - acc: 0.9712 - val_loss: 0.2678 - val_acc: 0.8983\n",
      "Epoch 10/30\n",
      "7/7 [==============================] - 0s 39ms/step - loss: 0.0690 - acc: 0.9928 - val_loss: 0.2741 - val_acc: 0.9322\n",
      "Epoch 11/30\n",
      "7/7 [==============================] - 0s 35ms/step - loss: 0.0710 - acc: 0.9928 - val_loss: 0.3135 - val_acc: 0.9153\n",
      "Epoch 12/30\n",
      "7/7 [==============================] - 0s 32ms/step - loss: 0.0542 - acc: 0.9928 - val_loss: 0.2225 - val_acc: 0.9322\n",
      "Epoch 13/30\n",
      "7/7 [==============================] - 0s 25ms/step - loss: 0.0280 - acc: 1.0000 - val_loss: 0.3022 - val_acc: 0.9322\n",
      "Epoch 14/30\n",
      "7/7 [==============================] - 0s 26ms/step - loss: 0.0290 - acc: 1.0000 - val_loss: 0.3285 - val_acc: 0.9322\n",
      "Epoch 15/30\n",
      "7/7 [==============================] - 0s 26ms/step - loss: 0.0481 - acc: 0.9856 - val_loss: 0.2688 - val_acc: 0.9322\n",
      "Epoch 16/30\n",
      "7/7 [==============================] - 0s 37ms/step - loss: 0.0423 - acc: 0.9856 - val_loss: 0.2690 - val_acc: 0.8983\n",
      "Epoch 17/30\n",
      "7/7 [==============================] - 0s 38ms/step - loss: 0.0290 - acc: 1.0000 - val_loss: 0.2594 - val_acc: 0.8983\n",
      "Epoch 18/30\n",
      "7/7 [==============================] - 0s 41ms/step - loss: 0.0230 - acc: 1.0000 - val_loss: 0.2191 - val_acc: 0.9153\n",
      "Epoch 19/30\n",
      "7/7 [==============================] - 0s 40ms/step - loss: 0.0336 - acc: 0.9928 - val_loss: 0.2083 - val_acc: 0.9322\n",
      "Epoch 20/30\n",
      "7/7 [==============================] - 0s 38ms/step - loss: 0.0296 - acc: 1.0000 - val_loss: 0.2252 - val_acc: 0.9322\n",
      "Epoch 21/30\n",
      "7/7 [==============================] - 0s 42ms/step - loss: 0.0202 - acc: 0.9928 - val_loss: 0.2194 - val_acc: 0.9322\n",
      "Epoch 22/30\n",
      "7/7 [==============================] - 0s 45ms/step - loss: 0.0226 - acc: 1.0000 - val_loss: 0.2447 - val_acc: 0.9322\n",
      "Epoch 23/30\n",
      "7/7 [==============================] - 0s 42ms/step - loss: 0.0228 - acc: 0.9928 - val_loss: 0.2045 - val_acc: 0.9322\n",
      "Epoch 24/30\n",
      "7/7 [==============================] - 0s 41ms/step - loss: 0.0341 - acc: 0.9928 - val_loss: 0.2279 - val_acc: 0.9322\n",
      "Epoch 25/30\n",
      "7/7 [==============================] - 0s 36ms/step - loss: 0.0190 - acc: 1.0000 - val_loss: 0.2684 - val_acc: 0.9153\n",
      "Epoch 26/30\n",
      "7/7 [==============================] - 0s 30ms/step - loss: 0.0119 - acc: 1.0000 - val_loss: 0.2627 - val_acc: 0.9153\n",
      "Epoch 27/30\n",
      "7/7 [==============================] - 0s 26ms/step - loss: 0.0119 - acc: 1.0000 - val_loss: 0.2185 - val_acc: 0.9322\n",
      "Epoch 28/30\n",
      "7/7 [==============================] - 0s 29ms/step - loss: 0.0101 - acc: 1.0000 - val_loss: 0.1710 - val_acc: 0.9322\n",
      "Epoch 29/30\n",
      "7/7 [==============================] - 0s 27ms/step - loss: 0.0128 - acc: 1.0000 - val_loss: 0.1676 - val_acc: 0.9322\n",
      "Epoch 30/30\n",
      "7/7 [==============================] - 0s 27ms/step - loss: 0.0058 - acc: 1.0000 - val_loss: 0.1921 - val_acc: 0.9322\n"
     ]
    }
   ],
   "source": [
    "history = model.fit(train_features, train_labels_cat, epochs=30, batch_size=20, validation_data=(validation_features, valid_labels_cat))"
   ]
  },
  {
   "cell_type": "code",
   "execution_count": 75,
   "id": "c23e505a",
   "metadata": {},
   "outputs": [],
   "source": [
    "import matplotlib.pyplot as plt\n",
    "acc = history.history['acc']\n",
    "val_acc = history.history['val_acc']\n",
    "loss = history.history['loss']\n",
    "val_loss = history.history['val_loss']"
   ]
  },
  {
   "cell_type": "code",
   "execution_count": 76,
   "id": "9ff0a204",
   "metadata": {},
   "outputs": [],
   "source": [
    "epochs = range(1, len(acc)+1)"
   ]
  },
  {
   "cell_type": "code",
   "execution_count": 77,
   "id": "3834bf62",
   "metadata": {},
   "outputs": [
    {
     "data": {
      "text/plain": [
       "<Figure size 432x288 with 0 Axes>"
      ]
     },
     "execution_count": 77,
     "metadata": {},
     "output_type": "execute_result"
    },
    {
     "data": {
      "image/png": "[encoded data removed]",
      "text/plain": [
       "<Figure size 432x288 with 1 Axes>"
      ]
     },
     "metadata": {
      "needs_background": "light"
     },
     "output_type": "display_data"
    },
    {
     "data": {
      "text/plain": [
       "<Figure size 432x288 with 0 Axes>"
      ]
     },
     "metadata": {},
     "output_type": "display_data"
    }
   ],
   "source": [
    "plt.plot(epochs, acc, 'bo', label='Training acc')\n",
    "plt.plot(epochs, val_acc, 'r', label='validation acc')\n",
    "plt.title('Training and validation accuracy')\n",
    "plt.legend()\n",
    "plt.figure()"
   ]
  },
  {
   "cell_type": "code",
   "execution_count": 78,
   "id": "3e57047c",
   "metadata": {},
   "outputs": [
    {
     "data": {
      "image/png": "[encoded data removed]",
      "text/plain": [
       "<Figure size 432x288 with 1 Axes>"
      ]
     },
     "metadata": {
      "needs_background": "light"
     },
     "output_type": "display_data"
    }
   ],
   "source": [
    "plt.plot(epochs, loss, 'bo', label='Training loss')\n",
    "plt.plot(epochs, val_loss, 'r', label='Validation loss')\n",
    "plt.title('Training and validation loss')\n",
    "plt.legend()\n",
    "plt.show()"
   ]
  },
  {
   "cell_type": "code",
   "execution_count": null,
   "id": "7ea19994",
   "metadata": {},
   "outputs": [],
   "source": []
  },
  {
   "cell_type": "code",
   "execution_count": null,
   "id": "cd2daddd",
   "metadata": {},
   "outputs": [],
   "source": []
  },
  {
   "cell_type": "code",
   "execution_count": null,
   "id": "e394f53f",
   "metadata": {},
   "outputs": [],
   "source": []
  },
  {
   "cell_type": "code",
   "execution_count": null,
   "id": "69bc1f7f",
   "metadata": {},
   "outputs": [],
   "source": []
  },
  {
   "cell_type": "code",
   "execution_count": null,
   "id": "e13676f7",
   "metadata": {},
   "outputs": [],
   "source": []
  },
  {
   "cell_type": "code",
   "execution_count": null,
   "id": "ffc15af7",
   "metadata": {},
   "outputs": [],
   "source": []
  },
  {
   "cell_type": "code",
   "execution_count": null,
   "id": "dd9906a6",
   "metadata": {},
   "outputs": [],
   "source": []
  },
  {
   "cell_type": "code",
   "execution_count": null,
   "id": "f3b8f6f3",
   "metadata": {},
   "outputs": [],
   "source": []
  },
  {
   "cell_type": "code",
   "execution_count": null,
   "id": "5f10dd85",
   "metadata": {},
   "outputs": [],
   "source": []
  },
  {
   "cell_type": "code",
   "execution_count": null,
   "id": "3c132e2c",
   "metadata": {},
   "outputs": [],
   "source": []
  },
  {
   "cell_type": "code",
   "execution_count": null,
   "id": "5bfdefc7",
   "metadata": {},
   "outputs": [],
   "source": []
  }
 ],
 "metadata": {
  "kernelspec": {
   "display_name": "Python 3 (ipykernel)",
   "language": "python",
   "name": "python3"
  },
  "language_info": {
   "codemirror_mode": {
    "name": "ipython",
    "version": 3
   },
   "file_extension": ".py",
   "mimetype": "text/x-python",
   "name": "python",
   "nbconvert_exporter": "python",
   "pygments_lexer": "ipython3",
   "version": "3.8.3"
  }
 },
 "nbformat": 4,
 "nbformat_minor": 5
}
